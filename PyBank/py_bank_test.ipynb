{
 "cells": [
  {
   "cell_type": "code",
   "execution_count": 80,
   "metadata": {},
   "outputs": [],
   "source": [
    "# Dependencies\n",
    "import os\n",
    "import csv"
   ]
  },
  {
   "cell_type": "code",
   "execution_count": 81,
   "metadata": {},
   "outputs": [],
   "source": [
    "#path = 'C:\\\\Users\\\\delan\\\\OneDrive\\\\Documents\\\\GitHub\\\\python-challenge\\\\PyBank\\\\Resources'\n",
    "datapath = os.path.join(\"Resources\",'budget_data.csv')"
   ]
  },
  {
   "cell_type": "code",
   "execution_count": 82,
   "metadata": {},
   "outputs": [
    {
     "data": {
      "text/plain": [
       "'Resources\\\\budget_data.csv'"
      ]
     },
     "execution_count": 82,
     "metadata": {},
     "output_type": "execute_result"
    }
   ],
   "source": [
    "datapath"
   ]
  },
  {
   "cell_type": "code",
   "execution_count": 85,
   "metadata": {},
   "outputs": [],
   "source": [
    "ttl_mnths = 0\n",
    "ttl_profits = 0\n",
    "cur_pl = 0\n",
    "cur_chng = 0\n",
    "rng_chng = 0\n",
    "gr_inc = 0\n",
    "gr_dec = 0\n",
    "gi_mnth = ''\n",
    "gd_mnth = ''\n",
    "cur_mnth = ''"
   ]
  },
  {
   "cell_type": "code",
   "execution_count": 86,
   "metadata": {
    "scrolled": true
   },
   "outputs": [],
   "source": [
    "with open(datapath, 'r',newline='') as datafile:\n",
    "    readfile = csv.reader(datafile, delimiter=',')\n",
    "    # skip header\n",
    "    next(readfile)\n",
    "    for row in readfile:\n",
    "        # Start at 2nd data row\n",
    "        if ttl_mnths >= 1:\n",
    "            # Find current change and check against extremes\n",
    "            cur_chng = int(row[1]) - int(cur_pl)\n",
    "            rng_chng = cur_chng + rng_chng\n",
    "            if cur_chng < gr_dec:\n",
    "                gr_dec = cur_chng\n",
    "                gd_mnth = row[0]\n",
    "            elif cur_chng > gr_inc:\n",
    "                gr_inc = cur_chng\n",
    "                gi_mnth = row[0]\n",
    "        if row[0] != \"Date\":\n",
    "            cur_mnth = row[0]\n",
    "            ttl_mnths = ttl_mnths + 1\n",
    "            ttl_profits = ttl_profits + int(row[1])\n",
    "            cur_pl = int(row[1])\n",
    "        #print(row[0] + ' ' + row[1] + ' ' + str(cur_chng)\n",
    "    "
   ]
  },
  {
   "cell_type": "code",
   "execution_count": 87,
   "metadata": {},
   "outputs": [
    {
     "name": "stdout",
     "output_type": "stream",
     "text": [
      "Financial Analysis\n",
      "----------------------------\n",
      "Total Months: 86\n",
      "Total: $38382578\n",
      "Average Change: $-2315.1176470588234\n",
      "Greatest Increase in Profits: Feb-2012 ($1926159)\n",
      "Greatest Decrease in Profits: Sep-2013 ($-2196167)\n"
     ]
    }
   ],
   "source": [
    "# Print Report\n",
    "print ('Financial Analysis')\n",
    "print ('----------------------------')\n",
    "print ('Total Months: ' + str(ttl_mnths))\n",
    "print ('Total: $' + str(ttl_profits))\n",
    "print ('Average Change: $' + str(rng_chng / (ttl_mnths - 1)))\n",
    "print ('Greatest Increase in Profits: ' + gi_mnth + \" ($\" + str(gr_inc) + \")\")\n",
    "print ('Greatest Decrease in Profits: ' + gd_mnth + \" ($\" + str(gr_dec) + \")\")"
   ]
  },
  {
   "cell_type": "code",
   "execution_count": 102,
   "metadata": {},
   "outputs": [],
   "source": [
    "# Write Report\n",
    "outfile = open(\"Resources\\\\budget_data_report.txt\",\"a\")"
   ]
  },
  {
   "cell_type": "code",
   "execution_count": 103,
   "metadata": {},
   "outputs": [
    {
     "data": {
      "text/plain": [
       "<_io.TextIOWrapper name='Resources\\\\budget_data_report.txt' mode='a' encoding='cp1252'>"
      ]
     },
     "execution_count": 103,
     "metadata": {},
     "output_type": "execute_result"
    }
   ],
   "source": [
    "outfile"
   ]
  },
  {
   "cell_type": "code",
   "execution_count": 104,
   "metadata": {},
   "outputs": [],
   "source": [
    "# Write the rows\n",
    "outfile.write('Financial Analysis\\n')\n",
    "outfile.write('----------------------------\\n')\n",
    "outfile.write ('Total Months: ' + str(ttl_mnths) + '\\n')\n",
    "outfile.write ('Total: $' + str(ttl_profits) + '\\n')\n",
    "outfile.write ('Average Change: $' + str(rng_chng / (ttl_mnths - 1)) + '\\n')\n",
    "outfile.write ('Greatest Increase in Profits: ' + gi_mnth + \" ($\" + str(gr_inc) + \")\\n\")\n",
    "outfile.write ('Greatest Decrease in Profits: ' + gd_mnth + \" ($\" + str(gr_dec) + \")\\n\")\n",
    "outfile.close()"
   ]
  },
  {
   "cell_type": "code",
   "execution_count": null,
   "metadata": {},
   "outputs": [],
   "source": []
  }
 ],
 "metadata": {
  "kernelspec": {
   "display_name": "Python 3",
   "language": "python",
   "name": "python3"
  },
  "language_info": {
   "codemirror_mode": {
    "name": "ipython",
    "version": 3
   },
   "file_extension": ".py",
   "mimetype": "text/x-python",
   "name": "python",
   "nbconvert_exporter": "python",
   "pygments_lexer": "ipython3",
   "version": "3.7.3"
  }
 },
 "nbformat": 4,
 "nbformat_minor": 2
}
