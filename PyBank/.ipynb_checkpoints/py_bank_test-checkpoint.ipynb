{
 "cells": [
  {
   "cell_type": "code",
   "execution_count": null,
   "metadata": {},
   "outputs": [],
   "source": [
    "# Dependencies\n",
    "import os\n",
    "import csv"
   ]
  },
  {
   "cell_type": "code",
   "execution_count": 2,
   "metadata": {},
   "outputs": [],
   "source": [
    "#path = 'C:\\\\Users\\\\delan\\\\OneDrive\\\\Documents\\\\GitHub\\\\python-challenge\\\\PyBank\\\\Resources'\n",
    "datapath = os.path.join(\"Resources\",'budget_data.csv')"
   ]
  },
  {
   "cell_type": "code",
   "execution_count": 3,
   "metadata": {},
   "outputs": [
    {
     "data": {
      "text/plain": [
       "'Resources\\\\budget_data.csv'"
      ]
     },
     "execution_count": 3,
     "metadata": {},
     "output_type": "execute_result"
    }
   ],
   "source": [
    "datapath"
   ]
  },
  {
   "cell_type": "code",
   "execution_count": 20,
   "metadata": {},
   "outputs": [],
   "source": [
    "ttl_mnths = 0\n",
    "ttl_profits = 0\n",
    "cur_pl = 0\n",
    "cur_chng = 0\n",
    "gr_inc = 0\n",
    "gr_dec = 0\n",
    "gi_mnth = ''\n",
    "gd_mnth = ''\n",
    "cur_mnth = ''"
   ]
  },
  {
   "cell_type": "code",
   "execution_count": null,
   "metadata": {},
   "outputs": [],
   "source": [
    "with open(datapath, 'r',newline='') as datafile:\n",
    "    readfile = csv.reader(datafile, delimiter=',')\n",
    "    for row in readfile:\n",
    "        # Start at 2nd data row\n",
    "        if ttl_mnths >= 1:\n",
    "            # Find current change and check against extremes\n",
    "            cur_chng = row[1] - cur_pl\n",
    "            if cur_chng < gr_dec:\n",
    "                gr_dec = cur_chng\n",
    "            elif cur_chng > gr_inc:\n",
    "                gr_inc = cur_chng\n",
    "        if row[0] <> \"Date\":\n",
    "            cur_mnth = row[0]\n",
    "            ttl_mnths = ttl_mnths + 1\n",
    "            ttl_profits = ttl_profits + row[1]\n",
    "            cur_pl = row[1]\n",
    "\n",
    "            \n",
    "    #readfile.head()"
   ]
  },
  {
   "cell_type": "code",
   "execution_count": null,
   "metadata": {},
   "outputs": [],
   "source": []
  }
 ],
 "metadata": {
  "kernelspec": {
   "display_name": "Python 3",
   "language": "python",
   "name": "python3"
  },
  "language_info": {
   "codemirror_mode": {
    "name": "ipython",
    "version": 3
   },
   "file_extension": ".py",
   "mimetype": "text/x-python",
   "name": "python",
   "nbconvert_exporter": "python",
   "pygments_lexer": "ipython3",
   "version": "3.7.3"
  }
 },
 "nbformat": 4,
 "nbformat_minor": 2
}
