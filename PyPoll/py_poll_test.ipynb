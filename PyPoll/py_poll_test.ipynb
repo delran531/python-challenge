{
 "cells": [
  {
   "cell_type": "code",
   "execution_count": 63,
   "metadata": {},
   "outputs": [],
   "source": [
    "# Dependencies\n",
    "import os\n",
    "import csv\n",
    "from pathlib import Path\n",
    "\n",
    "filepath = Path(\"Resources/election_data.csv\")"
   ]
  },
  {
   "cell_type": "code",
   "execution_count": 64,
   "metadata": {},
   "outputs": [
    {
     "data": {
      "text/plain": [
       "WindowsPath('Resources/election_data.csv')"
      ]
     },
     "execution_count": 64,
     "metadata": {},
     "output_type": "execute_result"
    }
   ],
   "source": [
    "filepath"
   ]
  },
  {
   "cell_type": "code",
   "execution_count": 65,
   "metadata": {},
   "outputs": [],
   "source": [
    "# Get candidates\n",
    "with open(filepath, 'r',newline='') as datafile:\n",
    "    readfile = csv.reader(datafile, delimiter=',')\n",
    "    candidates = set()\n",
    "    # skip header\n",
    "    next(readfile)\n",
    "    for row in readfile:\n",
    "        candidates.add(row[2])"
   ]
  },
  {
   "cell_type": "code",
   "execution_count": 66,
   "metadata": {},
   "outputs": [
    {
     "data": {
      "text/plain": [
       "{'Correy', 'Khan', 'Li', \"O'Tooley\"}"
      ]
     },
     "execution_count": 66,
     "metadata": {},
     "output_type": "execute_result"
    }
   ],
   "source": [
    "candidates"
   ]
  },
  {
   "cell_type": "code",
   "execution_count": 67,
   "metadata": {},
   "outputs": [],
   "source": [
    "# Initialize variables\n",
    "total_votes = 0\n",
    "can_votes = {}\n",
    "votes = []\n",
    "for can in candidates:\n",
    "    #print(can)\n",
    "    votes.append(0)\n",
    "    can_votes[can] = 0"
   ]
  },
  {
   "cell_type": "code",
   "execution_count": 68,
   "metadata": {},
   "outputs": [
    {
     "data": {
      "text/plain": [
       "{\"O'Tooley\": 0, 'Khan': 0, 'Li': 0, 'Correy': 0}"
      ]
     },
     "execution_count": 68,
     "metadata": {},
     "output_type": "execute_result"
    }
   ],
   "source": [
    "can_votes"
   ]
  },
  {
   "cell_type": "code",
   "execution_count": 69,
   "metadata": {},
   "outputs": [],
   "source": [
    "# Count votes\n",
    "with open(filepath, 'r',newline='') as datafile:\n",
    "    readfile = csv.reader(datafile, delimiter=',')\n",
    "    # skip header\n",
    "    next(readfile)\n",
    "    for row in readfile:\n",
    "        can_votes[row[2]] = can_votes[row[2]] + 1"
   ]
  },
  {
   "cell_type": "code",
   "execution_count": 70,
   "metadata": {},
   "outputs": [
    {
     "name": "stdout",
     "output_type": "stream",
     "text": [
      "{\"O'Tooley\": 105630, 'Khan': 2218231, 'Li': 492940, 'Correy': 704200}\n"
     ]
    },
    {
     "data": {
      "text/plain": [
       "'Khan'"
      ]
     },
     "execution_count": 70,
     "metadata": {},
     "output_type": "execute_result"
    }
   ],
   "source": [
    "print(can_votes)\n",
    "max(can_votes, key=can_votes.get)\n"
   ]
  },
  {
   "cell_type": "code",
   "execution_count": 71,
   "metadata": {},
   "outputs": [
    {
     "name": "stdout",
     "output_type": "stream",
     "text": [
      "Election Results\n",
      "----------------------------\n",
      "Total votes: 3521001\n",
      "----------------------------\n",
      "O'Tooley: 3.0% (105630)\n",
      "Khan: 63.0% (2218231)\n",
      "Li: 14.0% (492940)\n",
      "Correy: 20.0% (704200)\n",
      "----------------------------\n",
      "Winner: Khan\n",
      "----------------------------\n"
     ]
    }
   ],
   "source": [
    "# Do math for total votes\n",
    "for can in candidates:\n",
    "    total_votes = total_votes + can_votes[can]\n",
    "\n",
    "# Print/Write Report\n",
    "print ('Election Results')\n",
    "print ('----------------------------')\n",
    "print ('Total votes: ' + str(total_votes))\n",
    "print ('----------------------------')\n",
    "for can in candidates:\n",
    "    print(can + \": \" + str(round((can_votes[can]/total_votes)*100,0)) + \"% (\" + str(can_votes[can]) + \")\")\n",
    "print ('----------------------------')\n",
    "print ('Winner: ' + max(can_votes, key=can_votes.get))\n",
    "print ('----------------------------')\n"
   ]
  },
  {
   "cell_type": "code",
   "execution_count": null,
   "metadata": {},
   "outputs": [],
   "source": []
  }
 ],
 "metadata": {
  "kernelspec": {
   "display_name": "Python 3",
   "language": "python",
   "name": "python3"
  },
  "language_info": {
   "codemirror_mode": {
    "name": "ipython",
    "version": 3
   },
   "file_extension": ".py",
   "mimetype": "text/x-python",
   "name": "python",
   "nbconvert_exporter": "python",
   "pygments_lexer": "ipython3",
   "version": "3.7.3"
  }
 },
 "nbformat": 4,
 "nbformat_minor": 2
}
